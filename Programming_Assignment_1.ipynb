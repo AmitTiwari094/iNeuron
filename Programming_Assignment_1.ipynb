{
 "cells": [
  {
   "cell_type": "markdown",
   "metadata": {},
   "source": [
    "1.\tWrite a Python program to print \"Hello Python\"?"
   ]
  },
  {
   "cell_type": "code",
   "execution_count": 1,
   "metadata": {},
   "outputs": [
    {
     "name": "stdout",
     "output_type": "stream",
     "text": [
      "Hello python\n"
     ]
    }
   ],
   "source": [
    "print('Hello python')"
   ]
  },
  {
   "cell_type": "markdown",
   "metadata": {},
   "source": [
    "2.\tWrite a Python program to do arithmetical operations addition and division.?"
   ]
  },
  {
   "cell_type": "code",
   "execution_count": 8,
   "metadata": {},
   "outputs": [
    {
     "name": "stdout",
     "output_type": "stream",
     "text": [
      "Enter any number20\n",
      "Enter any number2\n",
      "Addition is: 22\n",
      "Division is: 10.0\n"
     ]
    }
   ],
   "source": [
    "a = int(input(\"Enter any number\"))\n",
    "b = int(input(\"Enter any number\"))\n",
    "\n",
    "# addition \n",
    "c = a + b\n",
    "# division\n",
    "d = a / b\n",
    "\n",
    "print(\"Addition is:\", c)\n",
    "print(\"Division is:\", d)"
   ]
  },
  {
   "cell_type": "markdown",
   "metadata": {},
   "source": [
    "3.\tWrite a Python program to find the area of a triangle?"
   ]
  },
  {
   "cell_type": "code",
   "execution_count": 9,
   "metadata": {},
   "outputs": [
    {
     "name": "stdout",
     "output_type": "stream",
     "text": [
      "Enter the base of triangle20\n",
      "Enter the height of traingle10\n",
      "Area of triangle is: 100.0\n"
     ]
    }
   ],
   "source": [
    "b = int(input(\"Enter the base of triangle\"))\n",
    "h = int(input(\"Enter the height of traingle\"))\n",
    "\n",
    "# area of triangle formula\n",
    "area = 1/2*b*h\n",
    "\n",
    "print(\"Area of triangle is:\", area)"
   ]
  },
  {
   "cell_type": "markdown",
   "metadata": {},
   "source": [
    "4.\tWrite a Python program to swap two variables?"
   ]
  },
  {
   "cell_type": "code",
   "execution_count": 11,
   "metadata": {},
   "outputs": [
    {
     "name": "stdout",
     "output_type": "stream",
     "text": [
      "Enter any number2\n",
      "Enter any number3\n",
      "3\n",
      "2\n"
     ]
    }
   ],
   "source": [
    "a = int(input(\"Enter any number\"))\n",
    "b = int(input(\"Enter any number\"))\n",
    "\n",
    "a,b = b,a\n",
    "\n",
    "print(a)\n",
    "print(b)"
   ]
  },
  {
   "cell_type": "markdown",
   "metadata": {},
   "source": [
    "5.\tWrite a Python program to generate a random number?"
   ]
  },
  {
   "cell_type": "code",
   "execution_count": 37,
   "metadata": {},
   "outputs": [
    {
     "name": "stdout",
     "output_type": "stream",
     "text": [
      "0.23994575567573784\n",
      "21\n"
     ]
    }
   ],
   "source": [
    "import random\n",
    "\n",
    "# for any random number\n",
    "a = random.random()\n",
    "\n",
    "# for integer random number\n",
    "b = random.randint(0,100)\n",
    "\n",
    "print(a)\n",
    "print(b)"
   ]
  },
  {
   "cell_type": "code",
   "execution_count": null,
   "metadata": {},
   "outputs": [],
   "source": []
  }
 ],
 "metadata": {
  "kernelspec": {
   "display_name": "Python 3",
   "language": "python",
   "name": "python3"
  },
  "language_info": {
   "codemirror_mode": {
    "name": "ipython",
    "version": 3
   },
   "file_extension": ".py",
   "mimetype": "text/x-python",
   "name": "python",
   "nbconvert_exporter": "python",
   "pygments_lexer": "ipython3",
   "version": "3.8.3"
  }
 },
 "nbformat": 4,
 "nbformat_minor": 4
}
